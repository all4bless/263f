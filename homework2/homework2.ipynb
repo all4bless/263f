{
  "nbformat": 4,
  "nbformat_minor": 0,
  "metadata": {
    "colab": {
      "provenance": [],
      "collapsed_sections": [
        "Dpdt-cOWf6cz",
        "TEyXa3pL8UqT",
        "SxY-Pjd---Xe",
        "rTySAd8jhu7L",
        "LcN6oIsFI_Dq",
        "_mDOms_zJ4tF",
        "XplrSYopj7g1"
      ]
    },
    "kernelspec": {
      "name": "python3",
      "display_name": "Python 3"
    },
    "language_info": {
      "name": "python"
    }
  },
  "cells": [
    {
      "cell_type": "markdown",
      "source": [
        "#Load Libraries"
      ],
      "metadata": {
        "id": "Dpdt-cOWf6cz"
      }
    },
    {
      "cell_type": "code",
      "source": [
        "!pip install import-ipynb --quiet"
      ],
      "metadata": {
        "id": "azJQa6POf6cz",
        "colab": {
          "base_uri": "https://localhost:8080/"
        },
        "outputId": "870d3c0d-1376-4c00-e8b8-e346a7a2cff0"
      },
      "execution_count": 1,
      "outputs": [
        {
          "output_type": "stream",
          "name": "stdout",
          "text": [
            "\u001b[?25l   \u001b[90m━━━━━━━━━━━━━━━━━━━━━━━━━━━━━━━━━━━━━━━━\u001b[0m \u001b[32m0.0/1.6 MB\u001b[0m \u001b[31m?\u001b[0m eta \u001b[36m-:--:--\u001b[0m\r\u001b[2K   \u001b[91m━━━━━━━━━━━━━━━━━━━━━━━━\u001b[0m\u001b[91m╸\u001b[0m\u001b[90m━━━━━━━━━━━━━━━\u001b[0m \u001b[32m1.0/1.6 MB\u001b[0m \u001b[31m28.8 MB/s\u001b[0m eta \u001b[36m0:00:01\u001b[0m\r\u001b[2K   \u001b[91m━━━━━━━━━━━━━━━━━━━━━━━━━━━━━━━━━━━━━━━\u001b[0m\u001b[91m╸\u001b[0m \u001b[32m1.6/1.6 MB\u001b[0m \u001b[31m37.9 MB/s\u001b[0m eta \u001b[36m0:00:01\u001b[0m\r\u001b[2K   \u001b[90m━━━━━━━━━━━━━━━━━━━━━━━━━━━━━━━━━━━━━━━━\u001b[0m \u001b[32m1.6/1.6 MB\u001b[0m \u001b[31m18.4 MB/s\u001b[0m eta \u001b[36m0:00:00\u001b[0m\n",
            "\u001b[?25h"
          ]
        }
      ]
    },
    {
      "cell_type": "code",
      "source": [
        "import numpy as np\n",
        "import matplotlib.pyplot as plt\n",
        "from mpl_toolkits.mplot3d import Axes3D\n",
        "from IPython.display import clear_output"
      ],
      "metadata": {
        "id": "eeMLUz3-f6cz"
      },
      "execution_count": 2,
      "outputs": []
    },
    {
      "cell_type": "markdown",
      "source": [
        "#Miscellaneous Functions: signedAngle, rotateAxisAngle, parallel_transport, crossMat"
      ],
      "metadata": {
        "id": "TEyXa3pL8UqT"
      }
    },
    {
      "cell_type": "code",
      "source": [
        "def signedAngle(u = None,v = None,n = None):\n",
        "    # This function calculates the signed angle between two vectors, \"u\" and \"v\",\n",
        "    # using an optional axis vector \"n\" to determine the direction of the angle.\n",
        "    #\n",
        "    # Parameters:\n",
        "    #   u: numpy array-like, shape (3,), the first vector.\n",
        "    #   v: numpy array-like, shape (3,), the second vector.\n",
        "    #   n: numpy array-like, shape (3,), the axis vector that defines the plane\n",
        "    #      in which the angle is measured. It determines the sign of the angle.\n",
        "    #\n",
        "    # Returns:\n",
        "    #   angle: float, the signed angle (in radians) from vector \"u\" to vector \"v\".\n",
        "    #          The angle is positive if the rotation from \"u\" to \"v\" follows\n",
        "    #          the right-hand rule with respect to the axis \"n\", and negative otherwise.\n",
        "    #\n",
        "    # The function works by:\n",
        "    # 1. Computing the cross product \"w\" of \"u\" and \"v\" to find the vector orthogonal\n",
        "    #    to both \"u\" and \"v\".\n",
        "    # 2. Calculating the angle between \"u\" and \"v\" using the arctan2 function, which\n",
        "    #    returns the angle based on the norm of \"w\" (magnitude of the cross product)\n",
        "    #    and the dot product of \"u\" and \"v\".\n",
        "    # 3. Using the dot product of \"n\" and \"w\" to determine the sign of the angle.\n",
        "    #    If this dot product is negative, the angle is adjusted to be negative.\n",
        "    #\n",
        "    # Example:\n",
        "    #   signedAngle(np.array([1, 0, 0]), np.array([0, 1, 0]), np.array([0, 0, 1]))\n",
        "    #   This would return a positive angle (π/2 radians), as the rotation\n",
        "    #   from the x-axis to the y-axis is counterclockwise when viewed along the z-axis.\n",
        "    w = np.cross(u,v)\n",
        "    angle = np.arctan2( np.linalg.norm(w), np.dot(u,v) )\n",
        "    if (np.dot(n,w) < 0):\n",
        "        angle = - angle\n",
        "\n",
        "    return angle"
      ],
      "metadata": {
        "id": "Q0-gCO8A8_qw"
      },
      "execution_count": 3,
      "outputs": []
    },
    {
      "cell_type": "code",
      "source": [
        "def test_signedAngle():\n",
        "  \"\"\"\n",
        "  This function tests the signedAngle function with three test cases.\n",
        "  \"\"\"\n",
        "  # Test case 1: Orthogonal vectors\n",
        "  u = np.array([1, 0, 0])\n",
        "  v = np.array([0, 1, 0])\n",
        "  n = np.array([0, 0, 1])\n",
        "  angle = signedAngle(u, v, n)\n",
        "  assert np.isclose(angle, np.pi/2), \"Test case 1 failed\"\n",
        "\n",
        "  # Test case 2: Parallel vectors\n",
        "  u = np.array([1, 1, 1])\n",
        "  v = np.array([2, 2, 2])\n",
        "  n = np.array([0, 1, 0])\n",
        "  angle = signedAngle(u, v, n)\n",
        "  assert np.isclose(angle, 0), \"Test case 2 failed\"\n",
        "\n",
        "  # Test case 3: Anti-parallel vectors\n",
        "  u = np.array([1, 1, 1])\n",
        "  v = np.array([-1, -1, -1])\n",
        "  n = np.array([0, 1, 0])\n",
        "  angle = signedAngle(u, v, n)\n",
        "  assert np.isclose(angle, np.pi), \"Test case 3 failed\"\n",
        "\n",
        "  print(\"All test cases passed\")\n",
        "\n",
        "test_signedAngle()"
      ],
      "metadata": {
        "colab": {
          "base_uri": "https://localhost:8080/"
        },
        "id": "wXqcwxAf9RVD",
        "outputId": "9ec70e40-ae8c-43f4-aa97-cfccc52e0eb1"
      },
      "execution_count": 4,
      "outputs": [
        {
          "output_type": "stream",
          "name": "stdout",
          "text": [
            "All test cases passed\n"
          ]
        }
      ]
    },
    {
      "cell_type": "code",
      "source": [
        "def rotateAxisAngle(v = None,z = None,theta = None):\n",
        "    # This function rotates a vector \"v\" around a specified axis \"z\" by an angle \"theta\".\n",
        "    #\n",
        "    # Parameters:\n",
        "    #   v: numpy array-like, shape (3,), the vector to be rotated.\n",
        "    #   z: numpy array-like, shape (3,), the unit vector representing the axis of rotation.\n",
        "    #      It should be normalized before calling the function for correct results.\n",
        "    #   theta: float, the rotation angle in radians.\n",
        "    #\n",
        "    # Returns:\n",
        "    #   vNew: numpy array-like, shape (3,), the rotated vector after applying the rotation\n",
        "    #         around axis \"z\" by angle \"theta\".\n",
        "    #\n",
        "    # The function works by:\n",
        "    # 1. Checking if the rotation angle \"theta\" is zero. If so, the function returns the original\n",
        "    #    vector \"v\" unchanged since no rotation is needed.\n",
        "    # 2. If \"theta\" is not zero, it computes the new rotated vector using the formula:\n",
        "    #      vNew = cos(theta) * v + sin(theta) * (z × v) + (1 - cos(theta)) * (z · v) * z\n",
        "    #    This formula is derived from Rodrigues' rotation formula, which calculates the rotation\n",
        "    #    of a vector around an axis using trigonometric functions and vector operations.\n",
        "    #    - The term cos(theta) * v represents the component of \"v\" that remains aligned with \"v\".\n",
        "    #    - The term sin(theta) * (z × v) gives the component perpendicular to both \"z\" and \"v\".\n",
        "    #    - The term (1 - cos(theta)) * (z · v) * z adjusts the result based on the projection of \"v\"\n",
        "    #      onto the axis \"z\".\n",
        "    #\n",
        "    # Example:\n",
        "    #   rotateAxisAngle(np.array([1, 0, 0]), np.array([0, 0, 1]), np.pi/2)\n",
        "    #   This would rotate the vector [1, 0, 0] by 90 degrees around the z-axis, returning\n",
        "    #   a vector close to [0, 1, 0].\n",
        "    if (theta == 0):\n",
        "        vNew = v\n",
        "    else:\n",
        "        c = np.cos(theta)\n",
        "        s = np.sin(theta)\n",
        "        vNew = c * v + s * np.cross(z,v) + np.dot(z,v) * (1.0 - c) * z\n",
        "\n",
        "    return vNew"
      ],
      "metadata": {
        "id": "0xgXb-wr9ZL4"
      },
      "execution_count": 5,
      "outputs": []
    },
    {
      "cell_type": "code",
      "source": [
        "def test_rotateAxisAngle():\n",
        "  \"\"\"\n",
        "  This function tests the rotateAxisAngle function by comparing the output with\n",
        "  the expected output for a given set of inputs.\n",
        "  \"\"\"\n",
        "\n",
        "  # Test case: Rotate a vector by 90 degrees around the z-axis\n",
        "  v = np.array([1, 0, 0])\n",
        "  axis = np.array([0, 0, 1])\n",
        "  theta = np.pi/2\n",
        "  v_rotated = rotateAxisAngle(v, axis, theta)\n",
        "\n",
        "  # Expected output\n",
        "  v_expected = np.array([0, 1, 0])\n",
        "\n",
        "  # Check if the output is close to the expected output\n",
        "  assert np.allclose(v_rotated, v_expected), \"Test case failed\"\n",
        "\n",
        "  print(\"Test case passed\")\n",
        "\n",
        "test_rotateAxisAngle()"
      ],
      "metadata": {
        "colab": {
          "base_uri": "https://localhost:8080/"
        },
        "id": "WASbXiku9t0Q",
        "outputId": "36a7f733-e1a8-4d7d-94ad-541518711db9"
      },
      "execution_count": 6,
      "outputs": [
        {
          "output_type": "stream",
          "name": "stdout",
          "text": [
            "Test case passed\n"
          ]
        }
      ]
    },
    {
      "cell_type": "code",
      "source": [
        "def parallel_transport(u = None,t1 = None,t2 = None):\n",
        "\n",
        "    # This function parallel transports a vector u from tangent t1 to t2\n",
        "    # Input:\n",
        "    # t1 - vector denoting the first tangent\n",
        "    # t2 - vector denoting the second tangent\n",
        "    # u - vector that needs to be parallel transported\n",
        "    # Output:\n",
        "    # d - vector after parallel transport\n",
        "\n",
        "    b = np.cross(t1,t2)\n",
        "    if (np.linalg.norm(b) == 0):\n",
        "        d = u\n",
        "    else:\n",
        "        b = b / np.linalg.norm(b)\n",
        "        # The following four lines may seem unnecessary but can sometimes help\n",
        "        # with numerical stability\n",
        "        b = b - np.dot(b,t1) * t1\n",
        "        b = b / np.linalg.norm(b)\n",
        "        b = b - np.dot(b,t2) * t2\n",
        "        b = b / np.linalg.norm(b)\n",
        "        n1 = np.cross(t1,b)\n",
        "        n2 = np.cross(t2,b)\n",
        "        d = np.dot(u,t1) * t2 + np.dot(u,n1) * n2 + np.dot(u,b) * b\n",
        "\n",
        "    return d"
      ],
      "metadata": {
        "id": "EwxYjpNo9yOA"
      },
      "execution_count": 7,
      "outputs": []
    },
    {
      "cell_type": "code",
      "source": [
        "def test_parallel_transport():\n",
        "  \"\"\"\n",
        "  This function tests the parallel_transport function by checking if the\n",
        "  transported vector is orthogonal to the new tangent vector.\n",
        "  \"\"\"\n",
        "\n",
        "  # Test case 1: Orthogonal tangents\n",
        "  u = np.array([1, 0, 0])\n",
        "  t1 = np.array([0, 1, 0])\n",
        "  t2 = np.array([0, 0, 1])\n",
        "  u_transported = parallel_transport(u, t1, t2)\n",
        "  assert np.allclose(np.dot(u_transported, t2), 0), \"Test case 1 failed\"\n",
        "  # Returns True if two arrays are element-wise equal within a tolerance.\n",
        "\n",
        "  # Test case 2: Parallel tangents\n",
        "  u = np.array([1, 1, 1])\n",
        "  t1 = np.array([1, 0, 0])\n",
        "  t2 = np.array([2, 0, 0])\n",
        "  u_transported = parallel_transport(u, t1, t2)\n",
        "  assert np.allclose(u_transported, u), \"Test case 2 failed\"\n",
        "\n",
        "  print(\"All test cases passed\")\n",
        "\n",
        "test_parallel_transport()"
      ],
      "metadata": {
        "colab": {
          "base_uri": "https://localhost:8080/"
        },
        "id": "ceaBTjyd92EL",
        "outputId": "f3554e02-4dfd-4f1b-e888-731b13f3674a"
      },
      "execution_count": 8,
      "outputs": [
        {
          "output_type": "stream",
          "name": "stdout",
          "text": [
            "All test cases passed\n"
          ]
        }
      ]
    },
    {
      "cell_type": "code",
      "source": [
        "def crossMat(a):\n",
        "    A=np.matrix([[0,- a[2],a[1]],[a[2],0,- a[0]],[- a[1],a[0],0]])\n",
        "    return A"
      ],
      "metadata": {
        "id": "uWnvtBDuIZLN"
      },
      "execution_count": 9,
      "outputs": []
    },
    {
      "cell_type": "markdown",
      "source": [
        "#Functions to calculate tangent, material frame, and reference frame (by time parallel transport)"
      ],
      "metadata": {
        "id": "9h_qF8yKGv5l"
      }
    },
    {
      "cell_type": "code",
      "source": [
        "def computeTangent(q):\n",
        "  ne = int((len(q)+1)/4 - 1)\n",
        "  tangent = np.zeros((ne, 3))\n",
        "  for c in range(ne):\n",
        "    dx = q[4*c+4:4*c+7] - q[4*c:4*c+3] # edge vector\n",
        "    tangent[c,:] = dx / np.linalg.norm(dx) # make it unit\n",
        "  return tangent"
      ],
      "metadata": {
        "id": "dCMfSzvqyx1V"
      },
      "execution_count": 10,
      "outputs": []
    },
    {
      "cell_type": "code",
      "source": [
        "def computeSpaceParallel(d1_first, q):\n",
        "  ne = int((len(q)+1)/4 - 1)\n",
        "  tangent = computeTangent(q)\n",
        "\n",
        "  d1 = np.zeros((ne, 3))\n",
        "  d2 = np.zeros((ne, 3))\n",
        "\n",
        "  # First edge\n",
        "  d1[0,:] = d1_first # Given\n",
        "  t0 = tangent[0,:] # Tangent on first edge\n",
        "  d2[0,:] = np.cross(t0, d1_first)\n",
        "\n",
        "  # Parallel transport from previous edge to the next\n",
        "  for c in range(1, ne):\n",
        "    t = tangent[c,:]\n",
        "    d1_first = parallel_transport(d1_first, t0, t)\n",
        "    # d1_first should be perpendicular to t\n",
        "    d1_first = d1_first - np.dot(d1_first, t) * t\n",
        "    d1_first = d1_first / np.linalg.norm(d1_first)\n",
        "\n",
        "    # Store d1 and d2 vectors for c-th edge\n",
        "    d1[c,:] = d1_first\n",
        "    d2[c,:] = np.cross(t, d1_first) # I made a mistake in class and wrote cross(t0, d1_first)\n",
        "\n",
        "    t0 = t.copy() # New tangent now becomes old tangent\n",
        "    # I made a mistake in class and forgot to write \"t.copy()\" and just wrote \"t0=t\"\n",
        "\n",
        "  return d1, d2"
      ],
      "metadata": {
        "id": "v4CxVl0z0Mk8"
      },
      "execution_count": 11,
      "outputs": []
    },
    {
      "cell_type": "code",
      "source": [
        "def computeMaterialFrame(a1, a2, theta):\n",
        "  ne = len(theta)\n",
        "  m1 = np.zeros((ne, 3))\n",
        "  m2 = np.zeros((ne, 3))\n",
        "  for c in range(ne): # loop over every edge\n",
        "    m1[c,:] = a1[c,:] * np.cos(theta[c]) + a2[c,:] * np.sin(theta[c])\n",
        "    m2[c,:] = - a1[c,:] * np.sin(theta[c]) + a2[c,:] * np.cos(theta[c])\n",
        "  return m1, m2"
      ],
      "metadata": {
        "id": "0bgTuqNHzPSa"
      },
      "execution_count": 12,
      "outputs": []
    },
    {
      "cell_type": "code",
      "source": [
        "def computeTimeParallel(a1_old, q0, q):\n",
        "  # a1_old is (ne,3) ndarray representing old reference frame\n",
        "  # q0 is the old DOF vector from where reference frame should be transported\n",
        "  # q is the new DOF vector where reference frame should be transported to\n",
        "  ne = int((len(q)+1)/4 - 1)\n",
        "  tangent0 = computeTangent(q0) # Old tangents\n",
        "  tangent = computeTangent(q) # New tangents\n",
        "\n",
        "  a1 = np.zeros((ne, 3))\n",
        "  a2 = np.zeros((ne, 3))\n",
        "  for c in range(ne):\n",
        "    t0 = tangent0[c,:]\n",
        "    t = tangent[c,:]\n",
        "    a1_tmp = parallel_transport(a1_old[c,:], t0, t)\n",
        "    a1[c,:] = a1_tmp - np.dot(a1_tmp, t) * t\n",
        "    a1[c,:] = a1[c,:] / np.linalg.norm(a1[c,:])\n",
        "    a2[c,:] = np.cross(t, a1[c,:])\n",
        "\n",
        "  return a1, a2"
      ],
      "metadata": {
        "id": "XKgu5wiRzz7l"
      },
      "execution_count": 13,
      "outputs": []
    },
    {
      "cell_type": "markdown",
      "source": [
        "#Functions to calculate reference twist and curvature"
      ],
      "metadata": {
        "id": "SxY-Pjd---Xe"
      }
    },
    {
      "cell_type": "code",
      "source": [
        "def computeReferenceTwist(u1, u2, t1, t2, refTwist = None):\n",
        "    # This function computes the reference twist angle between two vectors \"u1\" and \"u2\",\n",
        "    # given two tangent directions \"t1\" and \"t2\", and an optional initial guess for the twist.\n",
        "    # It adjusts the guess to align \"u1\" with \"u2\" when parallel transported along \"t1\" and \"t2\".\n",
        "    #\n",
        "    # Parameters:\n",
        "    #   u1: numpy array-like, shape (3,), the initial vector at position \"t1\".\n",
        "    #   u2: numpy array-like, shape (3,), the target vector at position \"t2\".\n",
        "    #   t1: numpy array-like, shape (3,), the initial tangent direction.\n",
        "    #   t2: numpy array-like, shape (3,), the target tangent direction.\n",
        "    #   refTwist: float, an optional initial guess for the reference twist angle (in radians).\n",
        "    #             If not provided, it defaults to zero.\n",
        "    #\n",
        "    # Returns:\n",
        "    #   refTwist: float, the adjusted reference twist angle (in radians) that aligns \"u1\"\n",
        "    #             with \"u2\" after parallel transport and rotation.\n",
        "    #\n",
        "    # The function works by:\n",
        "    # 1. Checking if \"refTwist\" is None and setting it to zero if no initial guess is provided.\n",
        "    #    This ensures a default starting point for the twist calculation.\n",
        "    # 2. Parallel transporting \"u1\" along \"t1\" to \"t2\" using the parallel_transport function.\n",
        "    #    This adjusts \"u1\" so that it is aligned correctly in the direction of \"t2\".\n",
        "    # 3. Rotating the parallel transported vector \"ut\" around \"t2\" by the current \"refTwist\" angle\n",
        "    #    using the rotateAxisAngle function. This accounts for the initial twist guess.\n",
        "    # 4. Computing the angle between the rotated \"ut\" and \"u2\" using the signedAngle function,\n",
        "    #    with \"t2\" as the axis to determine the direction of the angle.\n",
        "    # 5. Adjusting \"refTwist\" by adding the signed angle, thus refining the twist angle to\n",
        "    #    align \"u1\" with \"u2\" after transport and rotation.\n",
        "    #\n",
        "    # Example:\n",
        "    #   computeReferenceTwist(np.array([1, 0, 0]), np.array([0, 1, 0]),\n",
        "    #                         np.array([0, 0, 1]), np.array([0, 0, 1]))\n",
        "    #   This would compute the reference twist needed to align the x-axis with the y-axis\n",
        "    #   after transporting along the same tangent direction, starting with an initial guess of 0.\n",
        "    if refTwist is None:\n",
        "      refTwist = 0\n",
        "    ut = parallel_transport(u1, t1, t2)\n",
        "    ut = rotateAxisAngle(ut, t2, refTwist)\n",
        "    refTwist = refTwist + signedAngle(ut, u2, t2)\n",
        "    return refTwist"
      ],
      "metadata": {
        "id": "yWFkQS1EmZdF"
      },
      "execution_count": 14,
      "outputs": []
    },
    {
      "cell_type": "code",
      "source": [
        "def computekappa(node0, node1, node2, m1e, m2e, m1f, m2f):\n",
        "    # This function computes the curvature \"kappa\" at a \"turning\" node in a discrete elastic rod model.\n",
        "    # The curvature is calculated using the positions of three consecutive nodes and the material\n",
        "    # directors of the edges before and after the turning point.\n",
        "    #\n",
        "    # Parameters:\n",
        "    #   node0: array-like, shape (3,), the position of the node before the turning node.\n",
        "    #          This represents the node before the bend in the rod.\n",
        "    #   node1: array-like, shape (3,), the position of the \"turning\" node.\n",
        "    #          This node is the point around which the curvature is calculated.\n",
        "    #   node2: array-like, shape (3,), the position of the node after the turning node.\n",
        "    #          This represents the node after the bend in the rod.\n",
        "    #   m1e: array-like, shape (3,), material director 1 of the edge before the turning point.\n",
        "    #        This is a vector that defines one direction in the material frame of the edge before turning.\n",
        "    #   m2e: array-like, shape (3,), material director 2 of the edge before the turning point.\n",
        "    #        This is a vector orthogonal to m1e in the material frame of the edge before turning.\n",
        "    #   m1f: array-like, shape (3,), material director 1 of the edge after the turning point.\n",
        "    #        This is a vector that defines one direction in the material frame of the edge after turning.\n",
        "    #   m2f: array-like, shape (3,), material director 2 of the edge after the turning point.\n",
        "    #        This is a vector orthogonal to m1f in the material frame of the edge after turning.\n",
        "    #\n",
        "    # Returns:\n",
        "    #   kappa: array-like, shape (2,), the computed curvature at the turning node.\n",
        "    #          - kappa[0]: Curvature component in the direction of the second material director.\n",
        "    #          - kappa[1]: Curvature component in the direction of the first material director.\n",
        "    #\n",
        "    # The function works by:\n",
        "    # 1. Computing the tangent vectors \"t0\" and \"t1\" for the edges before and after the turning node.\n",
        "    #    - \"t0\" is the normalized vector from \"node0\" to \"node1\".\n",
        "    #    - \"t1\" is the normalized vector from \"node1\" to \"node2\".\n",
        "    # 2. Calculating the \"curvature binormal\" vector \"kb\", which measures the change in direction between\n",
        "    #    \"t0\" and \"t1\". The formula ensures that the curvature is properly scaled and oriented.\n",
        "    # 3. Initializing a \"kappa\" array to store the curvature components.\n",
        "    # 4. Calculating \"kappa1\", which is proportional to the projection of \"kb\" onto the average of\n",
        "    #    the material director \"m2\" vectors before and after the turning point.\n",
        "    # 5. Calculating \"kappa2\", which is proportional to the negative projection of \"kb\" onto the average of\n",
        "    #    the material director \"m1\" vectors before and after the turning point.\n",
        "    # 6. Storing \"kappa1\" and \"kappa2\" in the \"kappa\" array and returning it.\n",
        "    #\n",
        "    # This function is crucial in simulating the bending behavior of a discrete elastic rod,\n",
        "    # where the curvature at each turning point determines how the rod deforms. The use of\n",
        "    # material directors allows for accurate representation of the bending directions in\n",
        "    # the material frame.\n",
        "    #\n",
        "    # Example:\n",
        "    #   computekappa(node0, node1, node2, m1e, m2e, m1f, m2f)\n",
        "    #   This would compute the curvature for a given set of node positions and material directors.\n",
        "\n",
        "    t0 = (node1 - node0) / np.linalg.norm(node1 - node0)\n",
        "    t1 = (node2 - node1) / np.linalg.norm(node2 - node1)\n",
        "\n",
        "    kb = 2.0 * np.cross(t0,t1) / (1.0 + np.dot(t0,t1))\n",
        "    kappa1 = 0.5 * np.dot(kb,m2e + m2f)\n",
        "    kappa2 = - 0.5 * np.dot(kb,m1e + m1f)\n",
        "\n",
        "    kappa = np.zeros(2)\n",
        "    kappa[0] = kappa1\n",
        "    kappa[1] = kappa2\n",
        "\n",
        "    return kappa"
      ],
      "metadata": {
        "id": "lI0-x0y-Al4z"
      },
      "execution_count": 15,
      "outputs": []
    },
    {
      "cell_type": "code",
      "source": [
        "def getRefTwist(a1, tangent, refTwist):\n",
        "  ne = a1.shape[0] # Shape of a1 is (ne,3)\n",
        "  for c in np.arange(1,ne):\n",
        "    u0 = a1[c-1,0:3] # reference frame vector of previous edge\n",
        "    u1 = a1[c,0:3] # reference frame vector of current edge\n",
        "    t0 = tangent[c-1,0:3] # tangent of previous edge\n",
        "    t1 = tangent[c,0:3] # tangent of current edge\n",
        "    refTwist[c] = computeReferenceTwist(u0, u1, t0, t1, refTwist[c])\n",
        "  return refTwist"
      ],
      "metadata": {
        "id": "N1eKCHVy32od"
      },
      "execution_count": 16,
      "outputs": []
    },
    {
      "cell_type": "code",
      "source": [
        "def getKappa(q0, m1, m2):\n",
        "  ne = m1.shape[0] # Shape of m1 is (ne,3)\n",
        "  nv = ne + 1\n",
        "\n",
        "  kappa = np.zeros((nv,2))\n",
        "\n",
        "  for c in np.arange(1,ne):\n",
        "    node0 = q0[4*c-4:4*c-1]\n",
        "    node1 = q0[4*c+0:4*c+3]\n",
        "    node2 = q0[4*c+4:4*c+7]\n",
        "\n",
        "    m1e = m1[c-1,0:3].flatten() # Material frame of previous edge\n",
        "    m2e = m2[c-1,0:3].flatten() # NOT SURE if flattening is needed or not\n",
        "    m1f = m1[c,0:3].flatten() # Material frame of current edge\n",
        "    m2f = m2[c,0:3].flatten()\n",
        "\n",
        "    kappa_local = computekappa(node0, node1, node2, m1e, m2e, m1f, m2f)\n",
        "\n",
        "    # Store the values\n",
        "    kappa[c,0] = kappa_local[0]\n",
        "    kappa[c,1] = kappa_local[1]\n",
        "\n",
        "  return kappa"
      ],
      "metadata": {
        "id": "cKE_d4o-41qZ"
      },
      "execution_count": 17,
      "outputs": []
    },
    {
      "cell_type": "markdown",
      "source": [
        "# Gradients and Hessians of Elastic Energies"
      ],
      "metadata": {
        "id": "rTySAd8jhu7L"
      }
    },
    {
      "cell_type": "code",
      "source": [
        "def gradEs_hessEs(node0 = None,node1 = None,l_k = None,EA = None):\n",
        "\n",
        "# Inputs:\n",
        "# node0: 1x3 vector - position of the first node\n",
        "# node1: 1x3 vector - position of the last node\n",
        "\n",
        "# l_k: reference length (undeformed) of the edge\n",
        "# EA: scalar - stretching stiffness - Young's modulus times area\n",
        "\n",
        "# Outputs:\n",
        "# dF: 6x1  vector - gradient of the stretching energy between node0 and node 1.\n",
        "# dJ: 6x6 vector - hessian of the stretching energy between node0 and node 1.\n",
        "\n",
        "    ## Gradient of Es\n",
        "    edge = node1 - node0\n",
        "\n",
        "    edgeLen = np.linalg.norm(edge)\n",
        "    tangent = edge / edgeLen\n",
        "    epsX = edgeLen / l_k - 1\n",
        "    dF_unit = EA * tangent * epsX\n",
        "    dF = np.zeros((6))\n",
        "    dF[0:3] = - dF_unit\n",
        "    dF[3:6] = dF_unit\n",
        "\n",
        "    ## Hessian of Es\n",
        "    Id3 = np.eye(3)\n",
        "    M = EA * ((1 / l_k - 1 / edgeLen) * Id3 + 1 / edgeLen * ( np.outer( edge, edge ) ) / edgeLen ** 2)\n",
        "\n",
        "    dJ = np.zeros((6,6))\n",
        "    dJ[0:3,0:3] = M\n",
        "    dJ[3:6,3:6] = M\n",
        "    dJ[0:3,3:6] = - M\n",
        "    dJ[3:6,0:3] = - M\n",
        "    return dF,dJ"
      ],
      "metadata": {
        "id": "u0wmP7wHIiZa"
      },
      "execution_count": 18,
      "outputs": []
    },
    {
      "cell_type": "code",
      "source": [
        "def gradEb_hessEb(node0 = None,node1 = None,node2 = None,m1e = None,m2e = None,m1f = None,m2f = None,kappaBar = None,l_k = None, EI1 = None, EI2 = None):\n",
        "\n",
        "# This function follows the formulation by Panetta et al. 2019\n",
        "\n",
        "# Inputs:\n",
        "# node0: 1x3 vector - position of the node prior to the \"turning\" node\n",
        "# node1: 1x3 vector - position of the \"turning\" node\n",
        "# node2: 1x3 vector - position of the node after the \"turning\" node\n",
        "\n",
        "# m1e: 1x3 vector - material director 1 of the edge prior to turning\n",
        "# m2e: 1x3 vector - material director 2 of the edge prior to turning\n",
        "# m1f: 1x3 vector - material director 1 of the edge after turning\n",
        "# m2f: 1x3 vector - material director 2 of the edge after turning\n",
        "\n",
        "# kappaBar: 1x2 vector - natural curvature at the turning node\n",
        "# l_k: voronoi length (undeformed) of the turning node\n",
        "# EI1: scalar - bending stiffness for kappa1\n",
        "# EI2: scalar - bending stiffness for kappa2\n",
        "\n",
        "# Outputs:\n",
        "# dF: 11x1  vector - gradient of the bending energy at node1.\n",
        "# dJ: 11x11 vector - hessian of the bending energy at node1.\n",
        "\n",
        "    # If EI2 is not specified, set it equal to EI1\n",
        "    if EI2 == None:\n",
        "        EI2 = EI1\n",
        "\n",
        "    #\n",
        "    ## Computation of gradient of the two curvatures\n",
        "    #\n",
        "    gradKappa = np.zeros((11,2))\n",
        "\n",
        "    ee = node1 - node0\n",
        "    ef = node2 - node1\n",
        "    norm_e = np.linalg.norm(ee)\n",
        "    norm_f = np.linalg.norm(ef)\n",
        "    te = ee / norm_e\n",
        "    tf = ef / norm_f\n",
        "\n",
        "    # Curvature binormal\n",
        "    kb = 2.0 * np.cross(te,tf) / (1.0 + np.dot(te,tf))\n",
        "    chi = 1.0 + np.dot(te,tf)\n",
        "    tilde_t = (te + tf) / chi\n",
        "    tilde_d1 = (m1e + m1f) / chi\n",
        "    tilde_d2 = (m2e + m2f) / chi\n",
        "\n",
        "    # Curvatures\n",
        "    kappa1 = 0.5 * np.dot(kb,m2e + m2f)\n",
        "    kappa2 = - 0.5 * np.dot(kb,m1e + m1f)\n",
        "\n",
        "    Dkappa1De = 1.0 / norm_e * (- kappa1 * tilde_t + np.cross(tf,tilde_d2))\n",
        "    Dkappa1Df = 1.0 / norm_f * (- kappa1 * tilde_t - np.cross(te,tilde_d2))\n",
        "    Dkappa2De = 1.0 / norm_e * (- kappa2 * tilde_t - np.cross(tf,tilde_d1))\n",
        "    Dkappa2Df = 1.0 / norm_f * (- kappa2 * tilde_t + np.cross(te,tilde_d1))\n",
        "    gradKappa[0:3,1-1] = - Dkappa1De\n",
        "    gradKappa[4:7,1-1] = Dkappa1De - Dkappa1Df\n",
        "    gradKappa[8:11,1-1] = Dkappa1Df\n",
        "    gradKappa[0:3,2-1] = - Dkappa2De\n",
        "    gradKappa[4:7,2-1] = Dkappa2De - Dkappa2Df\n",
        "    gradKappa[8:11,2-1] = Dkappa2Df\n",
        "    gradKappa[4-1,1-1] = - 0.5 * np.dot(kb,m1e)\n",
        "    gradKappa[8-1,1-1] = - 0.5 * np.dot(kb,m1f)\n",
        "    gradKappa[4-1,2-1] = - 0.5 * np.dot(kb,m2e)\n",
        "    gradKappa[8-1,2-1] = - 0.5 * np.dot(kb,m2f)\n",
        "\n",
        "    #\n",
        "    ## Computation of hessian of the two curvatures\n",
        "    #\n",
        "    DDkappa1 = np.zeros((11,11)) # Hessian of kappa1\n",
        "    DDkappa2 = np.zeros((11,11)) # Hessian of kappa2\n",
        "\n",
        "    norm2_e = norm_e ** 2\n",
        "    norm2_f = norm_f ** 2\n",
        "\n",
        "    tt_o_tt = np.outer(tilde_t, tilde_t)\n",
        "    tmp = np.cross(tf,tilde_d2)\n",
        "    tf_c_d2t_o_tt = np.outer(tmp, tilde_t)\n",
        "    tt_o_tf_c_d2t = np.transpose(tf_c_d2t_o_tt)\n",
        "    kb_o_d2e = np.outer(kb, m2e)\n",
        "    d2e_o_kb = np.transpose(kb_o_d2e) # Not used in Panetta 2019\n",
        "    te_o_te = np.outer(te, te)\n",
        "    Id3 = np.eye(3)\n",
        "\n",
        "    # Bergou 2010\n",
        "    # D2kappa1De2 = 1.0 / norm2_e * (2 * kappa1 * tt_o_tt - tf_c_d2t_o_tt - tt_o_tf_c_d2t) - kappa1 / (chi * norm2_e) * (Id3 - te_o_te ) + 1.0 / (4.0 * norm2_e) * (kb_o_d2e + d2e_o_kb)\n",
        "    # Panetta 2019\n",
        "    D2kappa1De2 = 1.0 / norm2_e * (2 * kappa1 * tt_o_tt - tf_c_d2t_o_tt - tt_o_tf_c_d2t) - kappa1 / (chi * norm2_e) * (Id3 - te_o_te ) + 1.0 / (2.0 * norm2_e) * (kb_o_d2e)\n",
        "\n",
        "\n",
        "    tmp = np.cross(te,tilde_d2)\n",
        "    te_c_d2t_o_tt = np.outer(tmp, tilde_t)\n",
        "    tt_o_te_c_d2t = np.transpose(te_c_d2t_o_tt)\n",
        "    kb_o_d2f = np.outer(kb, m2f)\n",
        "    d2f_o_kb = np.transpose(kb_o_d2f) # Not used in Panetta 2019\n",
        "    tf_o_tf = np.outer( tf, tf )\n",
        "\n",
        "    # Bergou 2010\n",
        "    # D2kappa1Df2 = 1.0 / norm2_f * (2 * kappa1 * tt_o_tt + te_c_d2t_o_tt + tt_o_te_c_d2t) - kappa1 / (chi * norm2_f) * (Id3 - tf_o_tf) + 1.0 / (4.0 * norm2_f) * (kb_o_d2f + d2f_o_kb)\n",
        "    # Panetta 2019\n",
        "    D2kappa1Df2 = 1.0 / norm2_f * (2 * kappa1 * tt_o_tt + te_c_d2t_o_tt + tt_o_te_c_d2t) - kappa1 / (chi * norm2_f) * (Id3 - tf_o_tf) + 1.0 / (2.0 * norm2_f) * (kb_o_d2f)\n",
        "\n",
        "\n",
        "    te_o_tf = np.outer(te, tf)\n",
        "    D2kappa1DfDe = - kappa1 / (chi * norm_e * norm_f) * (Id3 + te_o_tf) + 1.0 / (norm_e * norm_f) * (2 * kappa1 * tt_o_tt - tf_c_d2t_o_tt + tt_o_te_c_d2t - crossMat(tilde_d2))\n",
        "    D2kappa1DeDf = np.transpose(D2kappa1DfDe)\n",
        "\n",
        "    tmp = np.cross(tf,tilde_d1)\n",
        "    tf_c_d1t_o_tt = np.outer(tmp, tilde_t)\n",
        "    tt_o_tf_c_d1t = np.transpose(tf_c_d1t_o_tt)\n",
        "    kb_o_d1e = np.outer(kb, m1e)\n",
        "    d1e_o_kb = np.transpose(kb_o_d1e) # Not used in Panetta 2019\n",
        "\n",
        "    # Bergou 2010\n",
        "    # D2kappa2De2 = 1.0 / norm2_e * (2.0 * kappa2 * tt_o_tt + tf_c_d1t_o_tt + tt_o_tf_c_d1t) - kappa2 / (chi * norm2_e) * (Id3 - te_o_te) - 1.0 / (4.0 * norm2_e) * (kb_o_d1e + d1e_o_kb)\n",
        "    # Panetta 2019\n",
        "    D2kappa2De2 = 1.0 / norm2_e * (2.0 * kappa2 * tt_o_tt + tf_c_d1t_o_tt + tt_o_tf_c_d1t) - kappa2 / (chi * norm2_e) * (Id3 - te_o_te) - 1.0 / (2.0 * norm2_e) * (kb_o_d1e)\n",
        "\n",
        "    tmp = np.cross(te,tilde_d1)\n",
        "    te_c_d1t_o_tt = np.outer(tmp, tilde_t)\n",
        "    tt_o_te_c_d1t = np.transpose(te_c_d1t_o_tt)\n",
        "    kb_o_d1f = np.outer(kb, m1f)\n",
        "    d1f_o_kb = np.transpose(kb_o_d1f) # Not used in Panetta 2019\n",
        "\n",
        "    # Bergou 2010\n",
        "    # D2kappa2Df2 = 1.0 / norm2_f * (2 * kappa2 * tt_o_tt - te_c_d1t_o_tt - tt_o_te_c_d1t) - kappa2 / (chi * norm2_f) * (Id3 - tf_o_tf) - 1.0 / (4.0 * norm2_f) * (kb_o_d1f + d1f_o_kb)\n",
        "    # Panetta 2019\n",
        "    D2kappa2Df2 = 1.0 / norm2_f * (2 * kappa2 * tt_o_tt - te_c_d1t_o_tt - tt_o_te_c_d1t) - kappa2 / (chi * norm2_f) * (Id3 - tf_o_tf) - 1.0 / (2.0 * norm2_f) * (kb_o_d1f)\n",
        "\n",
        "    D2kappa2DfDe = - kappa2 / (chi * norm_e * norm_f) * (Id3 + te_o_tf) + 1.0 / (norm_e * norm_f) * (2 * kappa2 * tt_o_tt + tf_c_d1t_o_tt - tt_o_te_c_d1t + crossMat(tilde_d1))\n",
        "    D2kappa2DeDf = np.transpose(D2kappa2DfDe)\n",
        "\n",
        "    D2kappa1Dthetae2 = - 0.5 * np.dot(kb,m2e)\n",
        "    D2kappa1Dthetaf2 = - 0.5 * np.dot(kb,m2f)\n",
        "    D2kappa2Dthetae2 = 0.5 * np.dot(kb,m1e)\n",
        "    D2kappa2Dthetaf2 = 0.5 * np.dot(kb,m1f)\n",
        "\n",
        "    D2kappa1DeDthetae = 1.0 / norm_e * (0.5 * np.dot(kb,m1e) * tilde_t - 1.0 / chi * np.cross(tf,m1e))\n",
        "    D2kappa1DeDthetaf = 1.0 / norm_e * (0.5 * np.dot(kb,m1f) * tilde_t - 1.0 / chi * np.cross(tf,m1f))\n",
        "    D2kappa1DfDthetae = 1.0 / norm_f * (0.5 * np.dot(kb,m1e) * tilde_t + 1.0 / chi * np.cross(te,m1e))\n",
        "    D2kappa1DfDthetaf = 1.0 / norm_f * (0.5 * np.dot(kb,m1f) * tilde_t + 1.0 / chi * np.cross(te,m1f))\n",
        "    D2kappa2DeDthetae = 1.0 / norm_e * (0.5 * np.dot(kb,m2e) * tilde_t - 1.0 / chi * np.cross(tf,m2e))\n",
        "    D2kappa2DeDthetaf = 1.0 / norm_e * (0.5 * np.dot(kb,m2f) * tilde_t - 1.0 / chi * np.cross(tf,m2f))\n",
        "    D2kappa2DfDthetae = 1.0 / norm_f * (0.5 * np.dot(kb,m2e) * tilde_t + 1.0 / chi * np.cross(te,m2e))\n",
        "    D2kappa2DfDthetaf = 1.0 / norm_f * (0.5 * np.dot(kb,m2f) * tilde_t + 1.0 / chi * np.cross(te,m2f))\n",
        "\n",
        "    # Curvature terms\n",
        "    DDkappa1[0:3,0:3] = D2kappa1De2\n",
        "    DDkappa1[0:3,4:7] = - D2kappa1De2 + D2kappa1DfDe\n",
        "    DDkappa1[0:3,8:11] = - D2kappa1DfDe\n",
        "    DDkappa1[4:7,0:3] = - D2kappa1De2 + D2kappa1DeDf\n",
        "    DDkappa1[4:7,4:7] = D2kappa1De2 - D2kappa1DeDf - D2kappa1DfDe + D2kappa1Df2\n",
        "    DDkappa1[4:7,8:11] = D2kappa1DfDe - D2kappa1Df2\n",
        "    DDkappa1[8:11,0:3] = - D2kappa1DeDf\n",
        "    DDkappa1[8:11,4:7] = D2kappa1DeDf - D2kappa1Df2\n",
        "    DDkappa1[8:11,8:11] = D2kappa1Df2\n",
        "\n",
        "    # Twist terms\n",
        "    DDkappa1[4-1,4-1] = D2kappa1Dthetae2\n",
        "    DDkappa1[8-1,8-1] = D2kappa1Dthetaf2\n",
        "\n",
        "    # Curvature-twist coupled terms\n",
        "    DDkappa1[0:3,4-1] = - D2kappa1DeDthetae\n",
        "    DDkappa1[4:7,4-1] = D2kappa1DeDthetae - D2kappa1DfDthetae\n",
        "    DDkappa1[8:11,4-1] = D2kappa1DfDthetae\n",
        "    DDkappa1[4-1,0:3] = np.transpose(DDkappa1[0:3,4-1])\n",
        "    DDkappa1[4-1,4:7] = np.transpose(DDkappa1[4:7,4-1])\n",
        "    DDkappa1[4-1,8:11] = np.transpose(DDkappa1[8:11,4-1])\n",
        "\n",
        "    # Curvature-twist coupled terms\n",
        "    DDkappa1[0:3,8-1] = - D2kappa1DeDthetaf\n",
        "    DDkappa1[4:7,8-1] = D2kappa1DeDthetaf - D2kappa1DfDthetaf\n",
        "    DDkappa1[8:11,8-1] = D2kappa1DfDthetaf\n",
        "    DDkappa1[8-1,0:3] = np.transpose(DDkappa1[0:3,8-1])\n",
        "    DDkappa1[8-1,4:7] = np.transpose(DDkappa1[4:7,8-1])\n",
        "    DDkappa1[8-1,8:11] = np.transpose(DDkappa1[8:11,8-1])\n",
        "\n",
        "    # Curvature terms\n",
        "    DDkappa2[0:3,0:3] = D2kappa2De2\n",
        "    DDkappa2[0:3,4:7] = - D2kappa2De2 + D2kappa2DfDe\n",
        "    DDkappa2[0:3,8:11] = - D2kappa2DfDe\n",
        "    DDkappa2[4:7,0:3] = - D2kappa2De2 + D2kappa2DeDf\n",
        "    DDkappa2[4:7,4:7] = D2kappa2De2 - D2kappa2DeDf - D2kappa2DfDe + D2kappa2Df2\n",
        "    DDkappa2[4:7,8:11] = D2kappa2DfDe - D2kappa2Df2\n",
        "    DDkappa2[8:11,0:3] = - D2kappa2DeDf\n",
        "    DDkappa2[8:11,4:7] = D2kappa2DeDf - D2kappa2Df2\n",
        "    DDkappa2[8:11,8:11] = D2kappa2Df2\n",
        "\n",
        "    # Twist terms\n",
        "    DDkappa2[4-1,4-1] = D2kappa2Dthetae2\n",
        "    DDkappa2[8-1,8-1] = D2kappa2Dthetaf2\n",
        "\n",
        "    # Curvature-twist coupled terms\n",
        "    DDkappa2[0:3,4-1] = - D2kappa2DeDthetae\n",
        "    DDkappa2[4:7,4-1] = D2kappa2DeDthetae - D2kappa2DfDthetae\n",
        "    DDkappa2[8:11,4-1] = D2kappa2DfDthetae\n",
        "    DDkappa2[4-1,0:3] = np.transpose(DDkappa2[0:3,4-1])\n",
        "    DDkappa2[4-1,4:7] = np.transpose(DDkappa2[4:7,4-1])\n",
        "    DDkappa2[4-1,8:11] = np.transpose(DDkappa2[8:11,4-1])\n",
        "\n",
        "    # Curvature-twist coupled terms\n",
        "    DDkappa2[0:3,8-1] = - D2kappa2DeDthetaf\n",
        "    DDkappa2[4:7,8-1] = D2kappa2DeDthetaf - D2kappa2DfDthetaf\n",
        "    DDkappa2[8:11,8-1] = D2kappa2DfDthetaf\n",
        "    DDkappa2[8-1,0:3] = np.transpose(DDkappa2[0:3,8-1])\n",
        "    DDkappa2[8-1,4:7] = np.transpose(DDkappa2[4:7,8-1])\n",
        "    DDkappa2[8-1,8:11] = np.transpose(DDkappa2[8:11,8-1])\n",
        "\n",
        "    #\n",
        "    ## Gradient of Eb\n",
        "    #\n",
        "    EIMat = np.array([[EI1, 0], [0, EI2]])\n",
        "    kappaVector = np.array([kappa1, kappa2])\n",
        "    dkappaVector = kappaVector - kappaBar\n",
        "    gradKappa_1 = gradKappa[:,0]\n",
        "    gradKappa_2 = gradKappa[:,1]\n",
        "    dE_dKappa1 = EI1 / l_k * dkappaVector[0] # Gradient of Eb wrt kappa1\n",
        "    dE_dKappa2 = EI2 / l_k * dkappaVector[1] # Gradient of Eb wrt kappa2\n",
        "    d2E_dKappa11 = EI1 / l_k # Second gradient of Eb wrt kappa1\n",
        "    d2E_dKappa22 = EI2 / l_k # Second gradient of Eb wrt kappa2\n",
        "\n",
        "    # dF is the gradient of Eb wrt DOFs\n",
        "    dF = dE_dKappa1 * gradKappa_1 + dE_dKappa2 * gradKappa_2\n",
        "\n",
        "    # Hessian of Eb\n",
        "    gradKappa1_o_gradKappa1 = np.outer(gradKappa_1, gradKappa_1)\n",
        "    gradKappa2_o_gradKappa2 = np.outer(gradKappa_2, gradKappa_2)\n",
        "    dJ = dE_dKappa1 * DDkappa1 + dE_dKappa2 * DDkappa2 + d2E_dKappa11 * gradKappa1_o_gradKappa1 + d2E_dKappa22 * gradKappa2_o_gradKappa2\n",
        "\n",
        "    return dF,dJ"
      ],
      "metadata": {
        "id": "_rOMEdNJ-y8Q"
      },
      "execution_count": 19,
      "outputs": []
    },
    {
      "cell_type": "code",
      "source": [
        "def gradEt_hessEt(node0 = None,node1 = None,node2 = None,theta_e = None,\n",
        "    theta_f = None,refTwist = None,twistBar = None,l_k = None,GJ = None):\n",
        "\n",
        "# Formulation due to Panetta 2019\n",
        "\n",
        "# Inputs:\n",
        "# node0: 1x3 vector - position of the node prior to the \"twisting\" node\n",
        "# node1: 1x3 vector - position of the \"twisting\" node\n",
        "# node2: 1x3 vector - position of the node after the \"twisting\" node\n",
        "\n",
        "# theta_e: scalar - twist angle of the first edge\n",
        "# theta_f: scalar - twist angle of the second (last) edge\n",
        "\n",
        "# l_k: voronoi length (undeformed) of the turning node\n",
        "# refTwist: reference twist (unit: radian) at the node\n",
        "# twistBar: undeformed twist (unit: radian) at the node\n",
        "# GJ: scalar - twisting stiffness\n",
        "\n",
        "# Outputs:\n",
        "# dF: 11x1  vector - gradient of the twisting energy at node1.\n",
        "# dJ: 11x11 vector - hessian of the twisting energy at node1.\n",
        "\n",
        "    gradTwist = np.zeros(11)\n",
        "    ee = node1 - node0\n",
        "    ef = node2 - node1\n",
        "    norm_e = np.linalg.norm(ee)\n",
        "    norm_f = np.linalg.norm(ef)\n",
        "    norm2_e = norm_e ** 2\n",
        "    norm2_f = norm_f ** 2\n",
        "    te = ee / norm_e\n",
        "    tf = ef / norm_f\n",
        "\n",
        "    # Curvature binormal\n",
        "    kb = 2.0 * np.cross(te,tf) / (1.0 + np.dot(te,tf))\n",
        "\n",
        "    # Gradient of twist wrt DOFs\n",
        "    gradTwist[0:3] = - 0.5 / norm_e * kb\n",
        "    gradTwist[8:11] = 0.5 / norm_f * kb\n",
        "    gradTwist[4:7] = - (gradTwist[0:3] + gradTwist[8:11])\n",
        "    gradTwist[4-1] = - 1\n",
        "    gradTwist[8-1] = 1\n",
        "\n",
        "    chi = 1.0 + np.dot(te,tf)\n",
        "    tilde_t = (te + tf) / chi\n",
        "    te_plus_tilde_t = te + tilde_t;\n",
        "    kb_o_te = np.outer(kb, te_plus_tilde_t)\n",
        "    te_o_kb = np.outer(te_plus_tilde_t, kb)\n",
        "    tf_plus_tilde_t = tf + tilde_t\n",
        "    kb_o_tf = np.outer(kb, tf_plus_tilde_t)\n",
        "    tf_o_kb = np.outer(tf_plus_tilde_t, kb)\n",
        "    kb_o_tilde_t = np.outer(kb, tilde_t)\n",
        "\n",
        "    ## Hessian of twist wrt DOFs\n",
        "    DDtwist = np.zeros((11,11))\n",
        "    # Bergou 2010 Formulation is below.\n",
        "    # D2mDe2 = - 0.25 / norm2_e * (kb_o_te + te_o_kb)\n",
        "    # D2mDf2 = - 0.25 / norm2_f * (kb_o_tf + tf_o_kb)\n",
        "    # D2mDeDf = 0.5 / (norm_e * norm_f) * (2.0 / chi * crossMat(te) - kb_o_tilde_t)\n",
        "    # D2mDfDe = np.transpose(D2mDeDf)\n",
        "    # Panetta 2019 formulation\n",
        "    D2mDe2 = -0.5 / norm2_e * (np.outer(kb, (te + tilde_t)) + 2.0 / chi * crossMat(tf))\n",
        "    D2mDf2 = -0.5 / norm2_f * (np.outer(kb, (tf + tilde_t)) - 2.0 / chi * crossMat(te))\n",
        "    D2mDfDe = 0.5 / (norm_e * norm_f) * (2.0 / chi * crossMat(te) - np.outer(kb, tilde_t)) # CAREFUL: D2mDfDe means \\partial^2 m/\\partial e^i \\partial e^{i-1}\n",
        "    D2mDeDf = 0.5 / (norm_e * norm_f) * (-2.0 / chi * crossMat(tf) - np.outer(kb, tilde_t))\n",
        "\n",
        "    # See Line 1145 of https://github.com/jpanetta/ElasticRods/blob/master/ElasticRod.cc\n",
        "    DDtwist[0:3,0:3] = D2mDe2\n",
        "    DDtwist[0:3,4:7] = - D2mDe2 + D2mDfDe\n",
        "    DDtwist[4:7,0:3] = - D2mDe2 + D2mDeDf\n",
        "    DDtwist[4:7,4:7] = D2mDe2 - (D2mDeDf + D2mDfDe) + D2mDf2\n",
        "    DDtwist[0:3,8:11] = - D2mDfDe\n",
        "    DDtwist[8:11,0:3] = - D2mDeDf\n",
        "    DDtwist[8:11,4:7] = D2mDeDf - D2mDf2\n",
        "    DDtwist[4:7,8:11] = D2mDfDe - D2mDf2\n",
        "    DDtwist[8:11,8:11] = D2mDf2\n",
        "\n",
        "    ## Gradients and Hessians of energy with respect to twist\n",
        "    integratedTwist = theta_f - theta_e + refTwist - twistBar\n",
        "    dE_dTau = GJ / l_k * integratedTwist\n",
        "    d2E_dTau2 = GJ / l_k\n",
        "\n",
        "    ## Gradient of Et\n",
        "    dF = dE_dTau * gradTwist\n",
        "    ## Hessian of Eb\n",
        "    gradTwist_o_gradTwist = np.outer( gradTwist, gradTwist )\n",
        "    dJ = dE_dTau * DDtwist + d2E_dTau2 * gradTwist_o_gradTwist\n",
        "    return dF,dJ"
      ],
      "metadata": {
        "id": "490dQZqDnRvp"
      },
      "execution_count": 20,
      "outputs": []
    },
    {
      "cell_type": "markdown",
      "source": [
        "#Functions to evaluate elastic forces along the arclength"
      ],
      "metadata": {
        "id": "LcN6oIsFI_Dq"
      }
    },
    {
      "cell_type": "code",
      "source": [
        "def getFs(q, EA, refLen):\n",
        "  ndof = len(q)\n",
        "  nv = int((ndof + 1) / 4 ) # Number of vertices\n",
        "  ne = nv - 1 # Number of edges\n",
        "\n",
        "  Fs = np.zeros(ndof)\n",
        "  Js = np.zeros((ndof,ndof))\n",
        "\n",
        "  for c in range(ne):\n",
        "    node0 = q[4 * c : 4 * c + 3]\n",
        "    node1 = q[4 * c + 4 : 4 * c + 7]\n",
        "    ind = np.array([4 * c, 4 * c + 1, 4 * c + 2, 4 * c + 4, 4 * c + 5, 4 * c + 6])\n",
        "\n",
        "    l_k = refLen[c]\n",
        "\n",
        "    dF, dJ = gradEs_hessEs(node0, node1, l_k, EA)\n",
        "\n",
        "    Fs[ind] -= dF\n",
        "    Js[np.ix_(ind, ind)] -= dJ\n",
        "\n",
        "  return Fs, Js"
      ],
      "metadata": {
        "id": "KSWF289VCo4z"
      },
      "execution_count": 21,
      "outputs": []
    },
    {
      "cell_type": "code",
      "source": [
        "def getFb(q, m1, m2, kappaBar, EI, voronoiRefLen):\n",
        "  ndof = len(q)\n",
        "  nv = int((ndof + 1) / 4 ) # Number of vertices\n",
        "  ne = nv - 1 # Number of edges\n",
        "\n",
        "  Fb = np.zeros(ndof)\n",
        "  Jb = np.zeros((ndof,ndof))\n",
        "\n",
        "  for c in range(1,ne): # Loop over all the internal nodes\n",
        "    node0 = q[4 * c -4 : 4 * c - 1] # (c-1) th node\n",
        "    node1 = q[4 * c : 4 * c + 3] # c-th node\n",
        "    node2 = q[4 * c + 4: 4 * c + 7] # (c+1)-th node\n",
        "    l_k = voronoiRefLen[c]\n",
        "    kappaBar_c = kappaBar[c, :] # I made a mistake in class. I wrote kappaBar[c] instead of kappaBar[c,:]\n",
        "\n",
        "    m1e = m1[c-1, 0:3]\n",
        "    m2e = m2[c-1, 0:3]\n",
        "    m1f = m1[c, 0:3]\n",
        "    m2f = m2[c, 0:3]\n",
        "\n",
        "    ind = np.arange(4*c - 4, 4 * c + 7) # 11 elements (3 nodes, 2 edges/theta angles)\n",
        "\n",
        "    dF, dJ = gradEb_hessEb(node0, node1, node2, m1e, m2e, m1f, m2f, kappaBar_c, l_k, EI)\n",
        "    # I made a mistake in class: I got the order of the inputs wrong in gradEb_hessEb. I swapped the order of l_k and EI\n",
        "\n",
        "    Fb[ind] -= dF\n",
        "    Jb[np.ix_(ind, ind)] -= dJ\n",
        "\n",
        "  return Fb, Jb"
      ],
      "metadata": {
        "id": "gNb1Q9RGEGeJ"
      },
      "execution_count": 22,
      "outputs": []
    },
    {
      "cell_type": "code",
      "source": [
        "def getFt(q, refTwist, twistBar, GJ, voronoiRefLen):\n",
        "  ndof = len(q)\n",
        "  nv = int((ndof + 1) / 4 ) # Number of vertices\n",
        "  ne = nv - 1 # Number of edges\n",
        "\n",
        "  Ft = np.zeros(ndof)\n",
        "  Jt = np.zeros((ndof,ndof))\n",
        "\n",
        "  for c in range(1,ne): # Loop over all the internal nodes\n",
        "    node0 = q[4 * c -4 : 4 * c - 1] # (c-1) th node\n",
        "    node1 = q[4 * c : 4 * c + 3] # c-th node\n",
        "    node2 = q[4 * c + 4: 4 * c + 7] # (c+1)-th node\n",
        "\n",
        "    theta_e = q[4 * c - 1]\n",
        "    theta_f = q[4 * c + 3]\n",
        "\n",
        "    l_k = voronoiRefLen[c]\n",
        "    refTwist_c = refTwist[c]\n",
        "    twistBar_c = twistBar[c]\n",
        "\n",
        "    ind = np.arange(4*c - 4, 4 * c + 7) # 11 elements (3 nodes, 2 edges/theta angles)\n",
        "\n",
        "    dF, dJ = gradEt_hessEt(node0, node1, node2, theta_e, theta_f, refTwist_c, twistBar_c, l_k, GJ)\n",
        "\n",
        "    Ft[ind] -= dF\n",
        "    Jt[np.ix_(ind, ind)] -= dJ\n",
        "\n",
        "  return Ft, Jt"
      ],
      "metadata": {
        "id": "VpFBLgrHFrl2"
      },
      "execution_count": 23,
      "outputs": []
    },
    {
      "cell_type": "markdown",
      "source": [
        "#Plot the rod"
      ],
      "metadata": {
        "id": "_mDOms_zJ4tF"
      }
    },
    {
      "cell_type": "code",
      "source": [
        "# Function to set equal aspect ratio for 3D plots\n",
        "def set_axes_equal(ax):\n",
        "    \"\"\"\n",
        "    Set equal aspect ratio for a 3D plot in Matplotlib.\n",
        "    This function adjusts the limits of the plot to make sure\n",
        "    that the scale is equal along all three axes.\n",
        "    \"\"\"\n",
        "    x_limits = ax.get_xlim3d()\n",
        "    y_limits = ax.get_ylim3d()\n",
        "    z_limits = ax.get_zlim3d()\n",
        "\n",
        "    x_range = abs(x_limits[1] - x_limits[0])\n",
        "    y_range = abs(y_limits[1] - y_limits[0])\n",
        "    z_range = abs(z_limits[1] - z_limits[0])\n",
        "\n",
        "    max_range = max(x_range, y_range, z_range)\n",
        "\n",
        "    x_middle = np.mean(x_limits)\n",
        "    y_middle = np.mean(y_limits)\n",
        "    z_middle = np.mean(z_limits)\n",
        "\n",
        "    ax.set_xlim3d([x_middle - max_range / 2, x_middle + max_range / 2])\n",
        "    ax.set_ylim3d([y_middle - max_range / 2, y_middle + max_range / 2])\n",
        "    ax.set_zlim3d([z_middle - max_range / 2, z_middle + max_range / 2])"
      ],
      "metadata": {
        "id": "EAFWowJuB3do"
      },
      "execution_count": 24,
      "outputs": []
    },
    {
      "cell_type": "code",
      "source": [
        "def plotrod(q, a1, a2, m1, m2, ctime):\n",
        "    \"\"\"\n",
        "    Function to plot the rod with the position and directors.\n",
        "\n",
        "    Parameters:\n",
        "    - q: Position vector (DOF vector).\n",
        "    - a1, a2: Reference frames (director vectors).\n",
        "    - m1, m2: Material directors.\n",
        "    - ctime: Current time for title.\n",
        "    \"\"\"\n",
        "\n",
        "    nv = (len(q) + 1) // 4\n",
        "    x1 = q[0::4]\n",
        "    x2 = q[1::4]\n",
        "    x3 = q[2::4]\n",
        "\n",
        "    # Compute the length of the rod\n",
        "    L = np.sum(np.sqrt((x1[1:] - x1[:-1])**2 +\n",
        "                       (x2[1:] - x2[:-1])**2 +\n",
        "                       (x3[1:] - x3[:-1])**2))\n",
        "\n",
        "    # Scale the director vectors by 0.1 * L\n",
        "    a1 *= 0.1 * L\n",
        "    a2 *= 0.1 * L\n",
        "    m1 *= 0.1 * L\n",
        "    m2 *= 0.1 * L\n",
        "\n",
        "    # Create figure and set up 3D plotting\n",
        "    fig = plt.figure(1)\n",
        "    clear_output()\n",
        "    plt.clf()  # Clear the figure\n",
        "    ax = fig.add_subplot(111, projection='3d')\n",
        "\n",
        "    # Plot the rod as black circles connected by lines\n",
        "    ax.plot3D(x1, x2, x3, 'ko-')\n",
        "\n",
        "    # Plot the first node with a red triangle\n",
        "    ax.plot3D([x1[0]], [x2[0]], [x3[0]], 'r^')\n",
        "\n",
        "    # Plot the directors along the rod\n",
        "    for c in range(nv - 1):\n",
        "        xa = q[4 * c : 4 * c + 3]\n",
        "        xb = q[4 * c + 4 : 4 * c + 7]\n",
        "        xp = (xa + xb) / 2  # Midpoint between xa and xb\n",
        "\n",
        "        # Plot the a1, a2, m1, m2 vectors at the midpoint\n",
        "        ax.plot3D([xp[0], xp[0] + a1[c, 0]], [xp[1], xp[1] + a1[c, 1]],\n",
        "                  [xp[2], xp[2] + a1[c, 2]], 'b--', linewidth=2)\n",
        "        ax.plot3D([xp[0], xp[0] + a2[c, 0]], [xp[1], xp[1] + a2[c, 1]],\n",
        "                  [xp[2], xp[2] + a2[c, 2]], 'c--', linewidth=2)\n",
        "        ax.plot3D([xp[0], xp[0] + m1[c, 0]], [xp[1], xp[1] + m1[c, 1]],\n",
        "                  [xp[2], xp[2] + m1[c, 2]], 'r-', linewidth=2)\n",
        "        ax.plot3D([xp[0], xp[0] + m2[c, 0]], [xp[1], xp[1] + m2[c, 1]],\n",
        "                  [xp[2], xp[2] + m2[c, 2]], 'g-', linewidth=2)\n",
        "\n",
        "    # Add legend\n",
        "    ax.legend(['a1', 'a2', 'm1', 'm2'])\n",
        "\n",
        "    # Set the title with current time\n",
        "    ax.set_title(f't={ctime:.2f}')\n",
        "\n",
        "    # Set axes labels\n",
        "    ax.set_xlabel('x')\n",
        "    ax.set_ylabel('y')\n",
        "    ax.set_zlabel('z')\n",
        "\n",
        "    # Set equal scaling using the custom function\n",
        "    set_axes_equal(ax)\n",
        "\n",
        "    plt.draw()  # Force a redraw of the figure\n",
        "    plt.show()"
      ],
      "metadata": {
        "id": "KKiSVFtAJ3r9"
      },
      "execution_count": 25,
      "outputs": []
    },
    {
      "cell_type": "code",
      "source": [
        "def plotrod_simple(q, ctime):\n",
        "    \"\"\"\n",
        "    Function to plot the rod with the position and directors.\n",
        "\n",
        "    Parameters:\n",
        "    - q: Position vector (DOF vector).\n",
        "    - ctime: Current time for title.\n",
        "    \"\"\"\n",
        "\n",
        "    x1 = q[0::4]\n",
        "    x2 = q[1::4]\n",
        "    x3 = q[2::4]\n",
        "\n",
        "    fig = plt.figure(1)\n",
        "    clear_output()\n",
        "    plt.clf()  # Clear the figure\n",
        "    ax = fig.add_subplot(111, projection='3d')\n",
        "\n",
        "    # Plot the rod as black circles connected by lines\n",
        "    ax.plot3D(x1, x2, x3, 'ko-')\n",
        "\n",
        "    # Plot the first node with a red triangle\n",
        "    ax.plot3D([x1[0]], [x2[0]], [x3[0]], 'r^')\n",
        "\n",
        "    # Set the title with current time\n",
        "    ax.set_title(f't={ctime:.2f}')\n",
        "\n",
        "    # Set axes labels\n",
        "    ax.set_xlabel('x')\n",
        "    ax.set_ylabel('y')\n",
        "    ax.set_zlabel('z')\n",
        "\n",
        "    # Set equal scaling and a 3D view\n",
        "    set_axes_equal(ax)\n",
        "    plt.draw()  # Force a redraw of the figure\n",
        "\n",
        "    plt.show()"
      ],
      "metadata": {
        "id": "-Tp_p4OL2bmA"
      },
      "execution_count": 26,
      "outputs": []
    },
    {
      "cell_type": "markdown",
      "source": [
        "# Objective function"
      ],
      "metadata": {
        "id": "XplrSYopj7g1"
      }
    },
    {
      "cell_type": "code",
      "source": [
        "def objfun(qGuess, q0, u, a1, a2,\n",
        "           freeIndex, # Boundary conditions\n",
        "           dt, tol, # time stepping parameters\n",
        "           refTwist, # We need a guess refTwist to compute the new refTwist\n",
        "           massVector, mMat, # Mass vector and mass matrix\n",
        "           EA, refLen, # Stretching stiffness and reference length\\\n",
        "           EI, GJ, voronoiRefLen, kappaBar, twistBar, # bending and twisting\n",
        "           Fg):\n",
        "\n",
        "  q = qGuess # Guess\n",
        "  iter = 0\n",
        "  error = 10 * tol\n",
        "\n",
        "  while error > tol:\n",
        "    a1Iterate, a2Iterate = computeTimeParallel(a1, q0, q) # Reference frame\n",
        "    tangent = computeTangent(q)\n",
        "    refTwist_iterate = getRefTwist(a1Iterate, tangent, refTwist) # Reference twist\n",
        "\n",
        "    # Material frame\n",
        "    theta = q[3::4] # twist angles\n",
        "    m1Iterate, m2Iterate = computeMaterialFrame(a1Iterate, a2Iterate, theta)\n",
        "\n",
        "    # Compute my elastic forces\n",
        "    # Bending\n",
        "    Fb, Jb = getFb(q, m1Iterate, m2Iterate, kappaBar, EI, voronoiRefLen) # Need to write this\n",
        "    # Twisting\n",
        "    Ft, Jt = getFt(q, refTwist_iterate, twistBar, GJ, voronoiRefLen) # Need to write this\n",
        "    # Stretching\n",
        "    Fs, Js = getFs(q, EA, refLen)\n",
        "\n",
        "    # Set up EOMs\n",
        "    Forces = Fb + Ft + Fs + Fg\n",
        "    Jforces = Jb + Jt + Js\n",
        "    f = massVector/dt * ( (q-q0)/dt - u ) - Forces\n",
        "    J = mMat / dt**2 - Jforces\n",
        "    # Free components of f and J to impose BCs\n",
        "    f_free = f[freeIndex]\n",
        "    J_free = J[np.ix_(freeIndex, freeIndex)]\n",
        "\n",
        "    # Update\n",
        "    dq_free = np.linalg.solve(J_free, f_free)\n",
        "\n",
        "    q[freeIndex] = q[freeIndex] - dq_free # Update free DOFs\n",
        "    error = np.sum(np.abs(f_free))\n",
        "\n",
        "    print('Iter = %d' % iter)\n",
        "    print('Error = %f' % error)\n",
        "\n",
        "    iter += 1\n",
        "\n",
        "  u = (q - q0) / dt # velocity vector\n",
        "\n",
        "  return q, u, a1Iterate, a2Iterate"
      ],
      "metadata": {
        "id": "yChaw9tl_CLs"
      },
      "execution_count": 27,
      "outputs": []
    },
    {
      "cell_type": "markdown",
      "source": [
        "#Main DER"
      ],
      "metadata": {
        "id": "aKO_QSJoH_k4"
      }
    },
    {
      "cell_type": "markdown",
      "source": [
        "**Degrees of freedom and nodes**\n",
        "\n",
        "We are dividing an elastic rod into nv nodes, which corresponds to ne=nv-1 edges and a DOF vector of size $$ndof=4nv-1.$$ We will store the results in a matrix (numpy ndarray) of size (nv x 3)."
      ],
      "metadata": {
        "id": "zsb9nR3EWBok"
      }
    },
    {
      "cell_type": "markdown",
      "source": [
        "A rod of length 0.2 meter and natural radius of curvature of 0.02 m. Cross-sectional radius is 0.001 m. We want to use nv=20 nodes (but should ideally be determined after doing sensitivity analysis)."
      ],
      "metadata": {
        "id": "WV9qfFVln3Am"
      }
    },
    {
      "cell_type": "code",
      "source": [
        "nv = 50 # nodes\n",
        "ne = nv - 1 # edges\n",
        "ndof = 4 * nv - 1 # degrees of freedom: 3*nv + ne\n",
        "\n",
        "RodLength = 0.2 # meter\n",
        "natR = 0.02 # natural radius\n",
        "r0 = 0.001 # cross-sectional radius\n",
        "\n",
        "# Matrix (numpy ndarray) for the nodes at t=0\n",
        "nodes = np.zeros((nv, 3))\n",
        "if natR == 0: # straight rod\n",
        "  for c in range(nv):\n",
        "    nodes[c, 0] = c * RodLength / (nv - 1) # x coordinate of c-th node\n",
        "    nodes[c, 1] = 0\n",
        "    nodes[c, 2] = 0\n",
        "else: # rod with circular shape (ring)\n",
        "  dTheta = (RodLength / natR) * (1.0 / ne)\n",
        "  for c in range(nv):\n",
        "    nodes[c, 0] = natR * np.cos(c * dTheta)\n",
        "    nodes[c, 1] = natR * np.sin(c * dTheta)\n",
        "    nodes[c, 2] = 0.0"
      ],
      "metadata": {
        "id": "gbAJBj7Gnz9j"
      },
      "execution_count": 28,
      "outputs": []
    },
    {
      "cell_type": "markdown",
      "source": [
        "**Elastic stiffness parameters**\n",
        "We will compute the elastic stiffness values (bending, twisting, and stretching), i.e., EI, GJ, and EA, based on the material properties and cross-sectional radius. We are assuming a rod with circular cross-section."
      ],
      "metadata": {
        "id": "531MoHg7Xe-f"
      }
    },
    {
      "cell_type": "code",
      "source": [
        "# Material parameters\n",
        "Y = 10e6 # Pascals\n",
        "nu = 0.5 # Poisson's raio\n",
        "G = Y / (2.0 * (1.0 + nu)) # shear modulus\n",
        "\n",
        "# Stiffness parameters\n",
        "EI = Y * np.pi * r0**4 / 4 # Bending stiffness\n",
        "GJ = G * np.pi * r0**4 / 2 # Twisting stiffness\n",
        "EA = Y * np.pi * r0**2 # Stretching stiffness"
      ],
      "metadata": {
        "id": "pEhjD5vDp5ZJ"
      },
      "execution_count": 29,
      "outputs": []
    },
    {
      "cell_type": "markdown",
      "source": [
        "**Time stepping parameters**"
      ],
      "metadata": {
        "id": "sMXWP4z9azMH"
      }
    },
    {
      "cell_type": "code",
      "source": [
        "totalTime = 5 # second\n",
        "dt = 0.01 # second (may need sensitivity analysis)\n",
        "\n",
        "# Tolerance\n",
        "tol = EI / RodLength**2 * 1e-3"
      ],
      "metadata": {
        "id": "4RqNaGtuq3sK"
      },
      "execution_count": 30,
      "outputs": []
    },
    {
      "cell_type": "markdown",
      "source": [
        "**Mass vector and matrix**"
      ],
      "metadata": {
        "id": "gRYygoXMa-G_"
      }
    },
    {
      "cell_type": "code",
      "source": [
        "rho = 1000 # Density (kg/m^3)\n",
        "totalM = (np.pi * r0**2 * RodLength) * rho # total mass in kg\n",
        "dm = totalM / ne # mass per edge\n",
        "\n",
        "massVector = np.zeros(ndof)\n",
        "for c in range(nv): # 0, 1, 2, ..., nv-1 MATLAB: for c=1:nv\n",
        "  ind = [4*c, 4*c+1, 4*c+2]\n",
        "  if c == 0: # first node\n",
        "    massVector[ind] = dm/2\n",
        "  elif c == nv-1: # last node\n",
        "    massVector[ind] = dm/2\n",
        "  else: # internal nodes\n",
        "    massVector[ind] = dm\n",
        "\n",
        "for c in range(ne):\n",
        "  massVector[4*c + 3] = 1/2 * dm * r0**2\n",
        "\n",
        "# Diagonal matrix rerpesentation of mass vector\n",
        "mMat = np.diag(massVector)"
      ],
      "metadata": {
        "id": "-A5FFLPhrnZa"
      },
      "execution_count": 31,
      "outputs": []
    },
    {
      "cell_type": "markdown",
      "source": [
        "**External Force**\n",
        "Since this does not change with time, we define it here instead of within the time loop."
      ],
      "metadata": {
        "id": "X3IxRMChbBBC"
      }
    },
    {
      "cell_type": "code",
      "source": [
        "# Gravity\n",
        "g = np.array([0, 0, -9.81])\n",
        "Fg = np.zeros(ndof) # External force vector for gravity\n",
        "for c in range(nv):\n",
        "  ind = [4*c, 4*c+1, 4*c+2]\n",
        "  Fg[ind] = massVector[ind] * g"
      ],
      "metadata": {
        "id": "sIuECVSauGo5"
      },
      "execution_count": 32,
      "outputs": []
    },
    {
      "cell_type": "markdown",
      "source": [
        "**Initial DOF vector**"
      ],
      "metadata": {
        "id": "feNjOqqpZqm5"
      }
    },
    {
      "cell_type": "code",
      "source": [
        "# DOF vector at t = 0\n",
        "q0 = np.zeros(ndof)\n",
        "for c in range(nv):\n",
        "  ind = [4*c, 4*c+1, 4*c+2]\n",
        "  q0[ind] = nodes[c, :]\n",
        "\n",
        "u = np.zeros_like(q0) # velocity vector\n",
        "\n",
        "plotrod_simple(q0, 0)"
      ],
      "metadata": {
        "colab": {
          "base_uri": "https://localhost:8080/",
          "height": 434
        },
        "id": "5EJEouhyup-0",
        "outputId": "2f55439c-3f66-44ce-dc64-b073cbe5d775"
      },
      "execution_count": 33,
      "outputs": [
        {
          "output_type": "display_data",
          "data": {
            "text/plain": [
              "<Figure size 640x480 with 1 Axes>"
            ],
            "image/png": "[encoded data removed]"
          },
          "metadata": {}
        }
      ]
    },
    {
      "cell_type": "markdown",
      "source": [
        "**Compute the reference (undeformed) length of each edge and the Voronoi length (undeformed) associated with each node**"
      ],
      "metadata": {
        "id": "8RiiJjP8ZcUT"
      }
    },
    {
      "cell_type": "code",
      "source": [
        "# Reference (undeformed) length of each edge\n",
        "refLen = np.zeros(ne)\n",
        "for c in range(ne): # loop over each edge\n",
        "  dx = nodes[c+1, :] - nodes[c, :] # edge vector from one node to the next\n",
        "  refLen[c] = np.linalg.norm(dx)\n",
        "\n",
        "# Voronoi length of each node\n",
        "voronoiRefLen = np.zeros(nv)\n",
        "for c in range(nv): # loop over each node\n",
        "  if c==0:\n",
        "    voronoiRefLen[c] = 0.5 * refLen[c]\n",
        "  elif c==nv-1:\n",
        "    voronoiRefLen[c] = 0.5 * refLen[c-1]\n",
        "  else:\n",
        "    voronoiRefLen[c] = 0.5 * (refLen[c-1] + refLen[c])"
      ],
      "metadata": {
        "id": "HYQWysINvULC"
      },
      "execution_count": 34,
      "outputs": []
    },
    {
      "cell_type": "markdown",
      "source": [
        "**Set up reference frame (a1, a2) and material frame (m1, m2)**"
      ],
      "metadata": {
        "id": "624Hr9KpYyDi"
      }
    },
    {
      "cell_type": "code",
      "source": [
        "# Reference frame (Space parallel transport at t=0)\n",
        "a1 = np.zeros((ne,3)) # First reference director\n",
        "a2 = np.zeros((ne,3)) # Second reference director\n",
        "tangent = computeTangent(q0) # We need to create this function\n",
        "\n",
        "t0 = tangent[0,:] # tangent on the first edge\n",
        "t1 = np.array([0, 0, -1]) # \"arbitrary\" vector\n",
        "a1_first = np.cross(t0, t1) # This is perpendicular to tangent t0\n",
        "# Check for null vector\n",
        "if np.linalg.norm(a1_first) < 1e-6:\n",
        "  t1 = np.array([0, 1, 0]) # new arbitrary vector\n",
        "  a1_first = np.cross(t0, t1)\n",
        "a1_first = a1_first / np.linalg.norm(a1_first) # Normalize\n",
        "a1, a2 = computeSpaceParallel(a1_first, q0) # We need to create this function\n",
        "# a1, a2, tangent all have size (ne,3)\n",
        "\n",
        "# Material frame\n",
        "theta = q0[3::4] # twist angles\n",
        "m1, m2 = computeMaterialFrame(a1, a2, theta) # Compute material frame"
      ],
      "metadata": {
        "id": "RIpqzISJwjC3"
      },
      "execution_count": 35,
      "outputs": []
    },
    {
      "cell_type": "markdown",
      "source": [
        "**Compute natural curvature, natural twist, and reference twist**\n",
        "Typically, reference twist and natural twist are both zeros. However, it is not always the case. Natural curvature is zero only if the rod is straight."
      ],
      "metadata": {
        "id": "YWU6iALZYgWi"
      }
    },
    {
      "cell_type": "code",
      "source": [
        "# Reference twist\n",
        "refTwist = np.zeros(nv)\n",
        "refTwist = getRefTwist(a1, tangent, refTwist) # We need to write this function\n",
        "\n",
        "# Natural curvature\n",
        "kappaBar = getKappa(q0, m1, m2) # We need to write this function\n",
        "\n",
        "# Natural twist\n",
        "twistBar = np.zeros(nv)"
      ],
      "metadata": {
        "id": "9Kb71zEm12FF"
      },
      "execution_count": 36,
      "outputs": []
    },
    {
      "cell_type": "markdown",
      "source": [
        "**Set up boundary conditions**\n",
        "We define the fixed and free DOFs. If the simulation asks that the boundary conditions vary with time (e.g., someone is holding a rod and all on a sudden drops it), we have to define it later within the time stepping loop."
      ],
      "metadata": {
        "id": "ba7qsMqGYOhB"
      }
    },
    {
      "cell_type": "code",
      "source": [
        "# Fixed and Free DOFs\n",
        "fixedIndex = np.arange(0,7) # First seven (2 nodes and one edge) are fixed: clamped\n",
        "freeIndex = np.arange(7,ndof)"
      ],
      "metadata": {
        "id": "CdTYYtn07HYg"
      },
      "execution_count": 37,
      "outputs": []
    },
    {
      "cell_type": "markdown",
      "source": [
        "**Time stepping loop**"
      ],
      "metadata": {
        "id": "l7VHNb-qYtun"
      }
    },
    {
      "cell_type": "code",
      "source": [
        "Nsteps = round(totalTime / dt ) # Total number of steps\n",
        "ctime = 0 # current time\n",
        "endZ = np.zeros(Nsteps) # Store z-coordinate of the last node with time\n",
        "\n",
        "for timeStep in range(Nsteps):\n",
        "  print('Current time = %f' % ctime)\n",
        "\n",
        "  qGuess = q0.copy() # This should be fixed - I did not include this line in class\n",
        "  q, u, a1, a2 = objfun( qGuess, # Guess solution\n",
        "                        q0, u, a1, a2,\n",
        "                         freeIndex, # Boundary conditions\n",
        "                         dt, tol, # time stepping parameters\n",
        "                         refTwist, # We need a guess refTwist to compute the new refTwist\n",
        "                         massVector, mMat, # Mass vector and mass matrix\n",
        "                         EA, refLen, # Stretching stiffness and reference length\n",
        "                         EI, GJ, voronoiRefLen, kappaBar, twistBar, # bending and twisting\n",
        "                         Fg\n",
        "                        )\n",
        "\n",
        "  ctime += dt # Update current time\n",
        "\n",
        "  # Update q0 with the new q\n",
        "  q0 = q.copy()\n",
        "\n",
        "  # Store the z-coordinate of the last node\n",
        "  endZ[timeStep] = q[-1]\n",
        "\n",
        "  # Every 100 time steps, update material directors and plot the rod\n",
        "  if timeStep % 10 == 0:\n",
        "    plotrod_simple(q, ctime)\n",
        "\n",
        "# Visualization after the loop\n",
        "plt.figure(2)\n",
        "time_array = np.arange(1, Nsteps + 1) * dt\n",
        "plt.plot(time_array, endZ, 'ro-')\n",
        "plt.box(True)\n",
        "plt.xlabel('Time, t [sec]')\n",
        "plt.ylabel('z-coord of last node, $\\\\delta_z$ [m]')\n",
        "plt.show()"
      ],
      "metadata": {
        "id": "zfJ1xD-47o3U",
        "colab": {
          "base_uri": "https://localhost:8080/",
          "height": 1000
        },
        "outputId": "d8c80791-ddba-422f-e84e-c5af2ea73ec1"
      },
      "execution_count": 38,
      "outputs": [
        {
          "output_type": "display_data",
          "data": {
            "text/plain": [
              "<Figure size 640x480 with 1 Axes>"
            ],
            "image/png": "[encoded data removed]"
          },
          "metadata": {}
        },
        {
          "output_type": "stream",
          "name": "stdout",
          "text": [
            "Current time = 4.910000\n",
            "Iter = 0\n",
            "Error = 0.000013\n",
            "Iter = 1\n",
            "Error = 0.000000\n",
            "Iter = 2\n",
            "Error = 0.000000\n",
            "Current time = 4.920000\n",
            "Iter = 0\n",
            "Error = 0.000008\n",
            "Iter = 1\n",
            "Error = 0.000000\n",
            "Current time = 4.930000\n",
            "Iter = 0\n",
            "Error = 0.000004\n",
            "Iter = 1\n",
            "Error = 0.000000\n",
            "Current time = 4.940000\n",
            "Iter = 0\n",
            "Error = 0.000001\n",
            "Iter = 1\n",
            "Error = 0.000000\n",
            "Current time = 4.950000\n",
            "Iter = 0\n",
            "Error = 0.000004\n",
            "Iter = 1\n",
            "Error = 0.000000\n",
            "Current time = 4.960000\n",
            "Iter = 0\n",
            "Error = 0.000008\n",
            "Iter = 1\n",
            "Error = 0.000000\n",
            "Current time = 4.970000\n",
            "Iter = 0\n",
            "Error = 0.000012\n",
            "Iter = 1\n",
            "Error = 0.000000\n",
            "Iter = 2\n",
            "Error = 0.000000\n",
            "Current time = 4.980000\n",
            "Iter = 0\n",
            "Error = 0.000015\n",
            "Iter = 1\n",
            "Error = 0.000000\n",
            "Iter = 2\n",
            "Error = 0.000000\n",
            "Current time = 4.990000\n",
            "Iter = 0\n",
            "Error = 0.000017\n",
            "Iter = 1\n",
            "Error = 0.000001\n",
            "Iter = 2\n",
            "Error = 0.000000\n"
          ]
        },
        {
          "output_type": "display_data",
          "data": {
            "text/plain": [
              "<Figure size 640x480 with 1 Axes>"
            ],
            "image/png": "[encoded data removed]"
          },
          "metadata": {}
        }
      ]
    }
  ]
}